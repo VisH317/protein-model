{
 "cells": [
  {
   "cell_type": "code",
   "execution_count": 3,
   "metadata": {},
   "outputs": [],
   "source": [
    "import torch\n",
    "from torch import nn\n",
    "from base_models.keap_trainer import KeAP, KeAPL, LMHead\n",
    "import lightning as L"
   ]
  },
  {
   "cell_type": "code",
   "execution_count": null,
   "metadata": {},
   "outputs": [],
   "source": [
    "# KeAP Config\n",
    "d_model = 512\n",
    "d_prot = 1024\n",
    "d_rel = d_att = 768\n",
    "d_attn = 128\n",
    "n_enc = 4\n",
    "vocab_size = 30\n",
    "\n",
    "keap = KeAP(n_enc, d_prot, d_model, d_att, d_rel, d_attn)\n",
    "lmhead = LMHead(d_model, vocab_size)"
   ]
  },
  {
   "cell_type": "code",
   "execution_count": null,
   "metadata": {},
   "outputs": [],
   "source": []
  }
 ],
 "metadata": {
  "kernelspec": {
   "display_name": "Python 3",
   "language": "python",
   "name": "python3"
  },
  "language_info": {
   "codemirror_mode": {
    "name": "ipython",
    "version": 3
   },
   "file_extension": ".py",
   "mimetype": "text/x-python",
   "name": "python",
   "nbconvert_exporter": "python",
   "pygments_lexer": "ipython3",
   "version": "3.10.14"
  }
 },
 "nbformat": 4,
 "nbformat_minor": 2
}
